{
 "cells": [
  {
   "cell_type": "markdown",
   "id": "a082b587-4d1b-44e6-9090-a3311850f9f5",
   "metadata": {},
   "source": [
    "### In what follows, we will examine the cleaned data which was gathered from the OpenWeather API."
   ]
  },
  {
   "cell_type": "code",
   "execution_count": 72,
   "id": "4175ec91-6ada-4568-9414-133751ef5372",
   "metadata": {},
   "outputs": [],
   "source": [
    "import numpy as np\n",
    "import pandas as pd\n",
    "import matplotlib.pyplot as plt\n",
    "import seaborn as sns\n",
    "plt.style.use(\"ggplot\")\n",
    "sns.set_theme(palette=\"pastel\", font_scale=1.1)\n",
    "pd.set_option(\"display.max_columns\", None)\n",
    "pd.set_option(\"display.max_rows\", 100)"
   ]
  },
  {
   "cell_type": "code",
   "execution_count": 73,
   "id": "5b6dfbe6-157a-438e-9c8b-a50766660d44",
   "metadata": {},
   "outputs": [],
   "source": [
    "#Load cleaned dataset\n",
    "df = pd.read_csv(\"final_weather_30340.csv\")"
   ]
  },
  {
   "cell_type": "code",
   "execution_count": 74,
   "id": "406cd401-fae9-40da-a4d9-911c1a97a932",
   "metadata": {},
   "outputs": [
    {
     "data": {
      "text/html": [
       "<div>\n",
       "<style scoped>\n",
       "    .dataframe tbody tr th:only-of-type {\n",
       "        vertical-align: middle;\n",
       "    }\n",
       "\n",
       "    .dataframe tbody tr th {\n",
       "        vertical-align: top;\n",
       "    }\n",
       "\n",
       "    .dataframe thead th {\n",
       "        text-align: right;\n",
       "    }\n",
       "</style>\n",
       "<table border=\"1\" class=\"dataframe\">\n",
       "  <thead>\n",
       "    <tr style=\"text-align: right;\">\n",
       "      <th></th>\n",
       "      <th>city</th>\n",
       "      <th>time</th>\n",
       "      <th>temp</th>\n",
       "      <th>humidity</th>\n",
       "      <th>weather_description</th>\n",
       "      <th>wind_speed</th>\n",
       "      <th>clouds</th>\n",
       "      <th>precipitation_prob</th>\n",
       "      <th>rain</th>\n",
       "      <th>partition_id</th>\n",
       "    </tr>\n",
       "  </thead>\n",
       "  <tbody>\n",
       "    <tr>\n",
       "      <th>0</th>\n",
       "      <td>Atlanta</td>\n",
       "      <td>2025-08-27 06:00:00</td>\n",
       "      <td>69.57</td>\n",
       "      <td>46</td>\n",
       "      <td>broken clouds</td>\n",
       "      <td>6.76</td>\n",
       "      <td>69</td>\n",
       "      <td>0.0</td>\n",
       "      <td>NaN</td>\n",
       "      <td>forecast</td>\n",
       "    </tr>\n",
       "    <tr>\n",
       "      <th>1</th>\n",
       "      <td>Atlanta</td>\n",
       "      <td>2025-08-26 12:00:00</td>\n",
       "      <td>67.84</td>\n",
       "      <td>47</td>\n",
       "      <td>overcast clouds</td>\n",
       "      <td>5.53</td>\n",
       "      <td>97</td>\n",
       "      <td>0.0</td>\n",
       "      <td>NaN</td>\n",
       "      <td>forecast</td>\n",
       "    </tr>\n",
       "    <tr>\n",
       "      <th>2</th>\n",
       "      <td>Atlanta</td>\n",
       "      <td>2025-08-23 12:00:00</td>\n",
       "      <td>70.92</td>\n",
       "      <td>90</td>\n",
       "      <td>overcast clouds</td>\n",
       "      <td>7.07</td>\n",
       "      <td>96</td>\n",
       "      <td>0.0</td>\n",
       "      <td>NaN</td>\n",
       "      <td>forecast</td>\n",
       "    </tr>\n",
       "    <tr>\n",
       "      <th>3</th>\n",
       "      <td>Atlanta</td>\n",
       "      <td>2025-08-26 09:00:00</td>\n",
       "      <td>69.17</td>\n",
       "      <td>43</td>\n",
       "      <td>clear sky</td>\n",
       "      <td>6.62</td>\n",
       "      <td>4</td>\n",
       "      <td>0.0</td>\n",
       "      <td>NaN</td>\n",
       "      <td>forecast</td>\n",
       "    </tr>\n",
       "    <tr>\n",
       "      <th>4</th>\n",
       "      <td>Atlanta</td>\n",
       "      <td>2025-08-26 15:00:00</td>\n",
       "      <td>71.38</td>\n",
       "      <td>37</td>\n",
       "      <td>overcast clouds</td>\n",
       "      <td>6.38</td>\n",
       "      <td>99</td>\n",
       "      <td>0.0</td>\n",
       "      <td>NaN</td>\n",
       "      <td>forecast</td>\n",
       "    </tr>\n",
       "  </tbody>\n",
       "</table>\n",
       "</div>"
      ],
      "text/plain": [
       "      city                 time   temp  humidity weather_description  \\\n",
       "0  Atlanta  2025-08-27 06:00:00  69.57        46       broken clouds   \n",
       "1  Atlanta  2025-08-26 12:00:00  67.84        47     overcast clouds   \n",
       "2  Atlanta  2025-08-23 12:00:00  70.92        90     overcast clouds   \n",
       "3  Atlanta  2025-08-26 09:00:00  69.17        43           clear sky   \n",
       "4  Atlanta  2025-08-26 15:00:00  71.38        37     overcast clouds   \n",
       "\n",
       "   wind_speed  clouds  precipitation_prob  rain partition_id  \n",
       "0        6.76      69                 0.0   NaN     forecast  \n",
       "1        5.53      97                 0.0   NaN     forecast  \n",
       "2        7.07      96                 0.0   NaN     forecast  \n",
       "3        6.62       4                 0.0   NaN     forecast  \n",
       "4        6.38      99                 0.0   NaN     forecast  "
      ]
     },
     "execution_count": 74,
     "metadata": {},
     "output_type": "execute_result"
    }
   ],
   "source": [
    "df.head()"
   ]
  },
  {
   "cell_type": "markdown",
   "id": "e86b4272-b480-4389-9feb-b59dd017c31b",
   "metadata": {},
   "source": [
    "#### There are clearly some zeroes in the precipitation_prob column, and some NaN values in the rain column. \n",
    "#### Let's change the NaN values in the rain column to zeroes:"
   ]
  },
  {
   "cell_type": "code",
   "execution_count": 76,
   "id": "a3f8a932-2f75-45ae-84ec-33b6346c1b1d",
   "metadata": {},
   "outputs": [],
   "source": [
    "df[\"rain\"] = df[\"rain\"].fillna(0)"
   ]
  },
  {
   "cell_type": "code",
   "execution_count": 77,
   "id": "ebbc14f8-c417-4ce8-bf7b-d67721cf2e65",
   "metadata": {},
   "outputs": [
    {
     "data": {
      "text/html": [
       "<div>\n",
       "<style scoped>\n",
       "    .dataframe tbody tr th:only-of-type {\n",
       "        vertical-align: middle;\n",
       "    }\n",
       "\n",
       "    .dataframe tbody tr th {\n",
       "        vertical-align: top;\n",
       "    }\n",
       "\n",
       "    .dataframe thead th {\n",
       "        text-align: right;\n",
       "    }\n",
       "</style>\n",
       "<table border=\"1\" class=\"dataframe\">\n",
       "  <thead>\n",
       "    <tr style=\"text-align: right;\">\n",
       "      <th></th>\n",
       "      <th>city</th>\n",
       "      <th>time</th>\n",
       "      <th>temp</th>\n",
       "      <th>humidity</th>\n",
       "      <th>weather_description</th>\n",
       "      <th>wind_speed</th>\n",
       "      <th>clouds</th>\n",
       "      <th>precipitation_prob</th>\n",
       "      <th>rain</th>\n",
       "      <th>partition_id</th>\n",
       "    </tr>\n",
       "  </thead>\n",
       "  <tbody>\n",
       "    <tr>\n",
       "      <th>0</th>\n",
       "      <td>Atlanta</td>\n",
       "      <td>2025-08-27 06:00:00</td>\n",
       "      <td>69.57</td>\n",
       "      <td>46</td>\n",
       "      <td>broken clouds</td>\n",
       "      <td>6.76</td>\n",
       "      <td>69</td>\n",
       "      <td>0.0</td>\n",
       "      <td>0.0</td>\n",
       "      <td>forecast</td>\n",
       "    </tr>\n",
       "    <tr>\n",
       "      <th>1</th>\n",
       "      <td>Atlanta</td>\n",
       "      <td>2025-08-26 12:00:00</td>\n",
       "      <td>67.84</td>\n",
       "      <td>47</td>\n",
       "      <td>overcast clouds</td>\n",
       "      <td>5.53</td>\n",
       "      <td>97</td>\n",
       "      <td>0.0</td>\n",
       "      <td>0.0</td>\n",
       "      <td>forecast</td>\n",
       "    </tr>\n",
       "    <tr>\n",
       "      <th>2</th>\n",
       "      <td>Atlanta</td>\n",
       "      <td>2025-08-23 12:00:00</td>\n",
       "      <td>70.92</td>\n",
       "      <td>90</td>\n",
       "      <td>overcast clouds</td>\n",
       "      <td>7.07</td>\n",
       "      <td>96</td>\n",
       "      <td>0.0</td>\n",
       "      <td>0.0</td>\n",
       "      <td>forecast</td>\n",
       "    </tr>\n",
       "    <tr>\n",
       "      <th>3</th>\n",
       "      <td>Atlanta</td>\n",
       "      <td>2025-08-26 09:00:00</td>\n",
       "      <td>69.17</td>\n",
       "      <td>43</td>\n",
       "      <td>clear sky</td>\n",
       "      <td>6.62</td>\n",
       "      <td>4</td>\n",
       "      <td>0.0</td>\n",
       "      <td>0.0</td>\n",
       "      <td>forecast</td>\n",
       "    </tr>\n",
       "    <tr>\n",
       "      <th>4</th>\n",
       "      <td>Atlanta</td>\n",
       "      <td>2025-08-26 15:00:00</td>\n",
       "      <td>71.38</td>\n",
       "      <td>37</td>\n",
       "      <td>overcast clouds</td>\n",
       "      <td>6.38</td>\n",
       "      <td>99</td>\n",
       "      <td>0.0</td>\n",
       "      <td>0.0</td>\n",
       "      <td>forecast</td>\n",
       "    </tr>\n",
       "  </tbody>\n",
       "</table>\n",
       "</div>"
      ],
      "text/plain": [
       "      city                 time   temp  humidity weather_description  \\\n",
       "0  Atlanta  2025-08-27 06:00:00  69.57        46       broken clouds   \n",
       "1  Atlanta  2025-08-26 12:00:00  67.84        47     overcast clouds   \n",
       "2  Atlanta  2025-08-23 12:00:00  70.92        90     overcast clouds   \n",
       "3  Atlanta  2025-08-26 09:00:00  69.17        43           clear sky   \n",
       "4  Atlanta  2025-08-26 15:00:00  71.38        37     overcast clouds   \n",
       "\n",
       "   wind_speed  clouds  precipitation_prob  rain partition_id  \n",
       "0        6.76      69                 0.0   0.0     forecast  \n",
       "1        5.53      97                 0.0   0.0     forecast  \n",
       "2        7.07      96                 0.0   0.0     forecast  \n",
       "3        6.62       4                 0.0   0.0     forecast  \n",
       "4        6.38      99                 0.0   0.0     forecast  "
      ]
     },
     "execution_count": 77,
     "metadata": {},
     "output_type": "execute_result"
    }
   ],
   "source": [
    "df.head()"
   ]
  },
  {
   "cell_type": "markdown",
   "id": "e43267b7-2283-41bd-97d5-e845616ab0eb",
   "metadata": {},
   "source": [
    "#### That worked. Now let's check for any null values:"
   ]
  },
  {
   "cell_type": "code",
   "execution_count": 79,
   "id": "e9740447-4d00-4a7c-b895-127cd3ba9a64",
   "metadata": {},
   "outputs": [
    {
     "name": "stdout",
     "output_type": "stream",
     "text": [
      "<class 'pandas.core.frame.DataFrame'>\n",
      "RangeIndex: 280 entries, 0 to 279\n",
      "Data columns (total 10 columns):\n",
      " #   Column               Non-Null Count  Dtype  \n",
      "---  ------               --------------  -----  \n",
      " 0   city                 280 non-null    object \n",
      " 1   time                 280 non-null    object \n",
      " 2   temp                 280 non-null    float64\n",
      " 3   humidity             280 non-null    int64  \n",
      " 4   weather_description  280 non-null    object \n",
      " 5   wind_speed           280 non-null    float64\n",
      " 6   clouds               280 non-null    int64  \n",
      " 7   precipitation_prob   280 non-null    float64\n",
      " 8   rain                 280 non-null    float64\n",
      " 9   partition_id         280 non-null    object \n",
      "dtypes: float64(4), int64(2), object(4)\n",
      "memory usage: 22.0+ KB\n"
     ]
    }
   ],
   "source": [
    "df.info()"
   ]
  },
  {
   "cell_type": "markdown",
   "id": "240c6644-aa95-4aca-b3a8-bd15d45b66ef",
   "metadata": {},
   "source": [
    "#### Any null values (such as those in the rain column) are now gone."
   ]
  },
  {
   "cell_type": "code",
   "execution_count": 81,
   "id": "2b1beaea-1525-4f49-a689-56874315f358",
   "metadata": {},
   "outputs": [
    {
     "data": {
      "text/plain": [
       "(280, 10)"
      ]
     },
     "execution_count": 81,
     "metadata": {},
     "output_type": "execute_result"
    }
   ],
   "source": [
    "df.shape"
   ]
  },
  {
   "cell_type": "markdown",
   "id": "bc70b536-c9f2-4717-9c82-de96f340966f",
   "metadata": {},
   "source": [
    "#### Now we'll look at the basic stats for the numerical columns:"
   ]
  },
  {
   "cell_type": "code",
   "execution_count": 83,
   "id": "8844dd21-3278-495a-8dd2-5d4ad9b4c368",
   "metadata": {},
   "outputs": [
    {
     "data": {
      "text/html": [
       "<div>\n",
       "<style scoped>\n",
       "    .dataframe tbody tr th:only-of-type {\n",
       "        vertical-align: middle;\n",
       "    }\n",
       "\n",
       "    .dataframe tbody tr th {\n",
       "        vertical-align: top;\n",
       "    }\n",
       "\n",
       "    .dataframe thead th {\n",
       "        text-align: right;\n",
       "    }\n",
       "</style>\n",
       "<table border=\"1\" class=\"dataframe\">\n",
       "  <thead>\n",
       "    <tr style=\"text-align: right;\">\n",
       "      <th></th>\n",
       "      <th>count</th>\n",
       "      <th>mean</th>\n",
       "      <th>std</th>\n",
       "      <th>min</th>\n",
       "      <th>25%</th>\n",
       "      <th>50%</th>\n",
       "      <th>75%</th>\n",
       "      <th>max</th>\n",
       "    </tr>\n",
       "  </thead>\n",
       "  <tbody>\n",
       "    <tr>\n",
       "      <th>temp</th>\n",
       "      <td>280.0</td>\n",
       "      <td>75.115357</td>\n",
       "      <td>6.062654</td>\n",
       "      <td>61.79</td>\n",
       "      <td>70.7250</td>\n",
       "      <td>73.74</td>\n",
       "      <td>78.3325</td>\n",
       "      <td>90.73</td>\n",
       "    </tr>\n",
       "    <tr>\n",
       "      <th>humidity</th>\n",
       "      <td>280.0</td>\n",
       "      <td>63.303571</td>\n",
       "      <td>22.985986</td>\n",
       "      <td>20.00</td>\n",
       "      <td>41.0000</td>\n",
       "      <td>68.00</td>\n",
       "      <td>86.0000</td>\n",
       "      <td>96.00</td>\n",
       "    </tr>\n",
       "    <tr>\n",
       "      <th>wind_speed</th>\n",
       "      <td>280.0</td>\n",
       "      <td>6.444071</td>\n",
       "      <td>2.290376</td>\n",
       "      <td>0.83</td>\n",
       "      <td>4.8625</td>\n",
       "      <td>6.35</td>\n",
       "      <td>7.6575</td>\n",
       "      <td>12.44</td>\n",
       "    </tr>\n",
       "    <tr>\n",
       "      <th>clouds</th>\n",
       "      <td>280.0</td>\n",
       "      <td>64.910714</td>\n",
       "      <td>36.031983</td>\n",
       "      <td>0.00</td>\n",
       "      <td>39.0000</td>\n",
       "      <td>76.50</td>\n",
       "      <td>97.0000</td>\n",
       "      <td>100.00</td>\n",
       "    </tr>\n",
       "    <tr>\n",
       "      <th>precipitation_prob</th>\n",
       "      <td>280.0</td>\n",
       "      <td>0.284143</td>\n",
       "      <td>0.420559</td>\n",
       "      <td>0.00</td>\n",
       "      <td>0.0000</td>\n",
       "      <td>0.00</td>\n",
       "      <td>0.7475</td>\n",
       "      <td>1.00</td>\n",
       "    </tr>\n",
       "    <tr>\n",
       "      <th>rain</th>\n",
       "      <td>280.0</td>\n",
       "      <td>0.540893</td>\n",
       "      <td>1.165062</td>\n",
       "      <td>0.00</td>\n",
       "      <td>0.0000</td>\n",
       "      <td>0.00</td>\n",
       "      <td>0.3175</td>\n",
       "      <td>6.45</td>\n",
       "    </tr>\n",
       "  </tbody>\n",
       "</table>\n",
       "</div>"
      ],
      "text/plain": [
       "                    count       mean        std    min      25%    50%  \\\n",
       "temp                280.0  75.115357   6.062654  61.79  70.7250  73.74   \n",
       "humidity            280.0  63.303571  22.985986  20.00  41.0000  68.00   \n",
       "wind_speed          280.0   6.444071   2.290376   0.83   4.8625   6.35   \n",
       "clouds              280.0  64.910714  36.031983   0.00  39.0000  76.50   \n",
       "precipitation_prob  280.0   0.284143   0.420559   0.00   0.0000   0.00   \n",
       "rain                280.0   0.540893   1.165062   0.00   0.0000   0.00   \n",
       "\n",
       "                        75%     max  \n",
       "temp                78.3325   90.73  \n",
       "humidity            86.0000   96.00  \n",
       "wind_speed           7.6575   12.44  \n",
       "clouds              97.0000  100.00  \n",
       "precipitation_prob   0.7475    1.00  \n",
       "rain                 0.3175    6.45  "
      ]
     },
     "execution_count": 83,
     "metadata": {},
     "output_type": "execute_result"
    }
   ],
   "source": [
    "df.describe().T"
   ]
  },
  {
   "cell_type": "markdown",
   "id": "78d83d8c-7e82-4f40-b9c3-63c22e01a4ed",
   "metadata": {},
   "source": [
    "#### Let's check the boxplots of these columns:"
   ]
  },
  {
   "cell_type": "code",
   "execution_count": 85,
   "id": "d80d53c8-b93f-43b4-bc82-54d053724d15",
   "metadata": {},
   "outputs": [
    {
     "data": {
      "image/png": "[encoded data removed]",
      "text/plain": [
       "<Figure size 640x480 with 1 Axes>"
      ]
     },
     "metadata": {},
     "output_type": "display_data"
    }
   ],
   "source": [
    "num_cols = df.select_dtypes(include=\"number\").columns\n",
    "sns.boxplot(data=df[num_cols])\n",
    "plt.xticks(rotation=45)\n",
    "plt.title(\"Boxplots of All Numeric Columns\")\n",
    "plt.show()\n"
   ]
  },
  {
   "cell_type": "markdown",
   "id": "aa035110-6147-4400-91b5-66719519c9f5",
   "metadata": {},
   "source": [
    "#### We can see that temps were predicted to stay within a narrow range and that wind and precipitation/rain were not forecasted to be much of a factor. Clouds and humidity seem to be the dominant factors in the forecast for the time period."
   ]
  },
  {
   "cell_type": "markdown",
   "id": "a7bcf1ba-3763-48d7-ac07-8c808dbc40e4",
   "metadata": {},
   "source": [
    "#### Here is a correlation heatmap of the numerical columns:"
   ]
  },
  {
   "cell_type": "code",
   "execution_count": 88,
   "id": "5c1a4385-ec5e-4efe-bfa0-3cd60098d69a",
   "metadata": {},
   "outputs": [
    {
     "data": {
      "image/png": "[encoded data removed]",
      "text/plain": [
       "<Figure size 1000x600 with 2 Axes>"
      ]
     },
     "metadata": {},
     "output_type": "display_data"
    }
   ],
   "source": [
    "corr = df.corr(numeric_only=True)\n",
    "mask = np.triu(np.ones_like(corr, dtype=bool))\n",
    "plt.figure(figsize=(10, 6))\n",
    "sns.heatmap(corr, mask=mask, annot=True, fmt=\".2f\", cmap=\"coolwarm\", square=True)\n",
    "plt.show()"
   ]
  },
  {
   "cell_type": "markdown",
   "id": "c2d1fa7a-497f-4ddd-b2f7-784702e85887",
   "metadata": {},
   "source": [
    "#### Observations:\n",
    "- The negative correlation between humidity/clouds and temperature make sense, since the humid days tend to be cloudy.\n",
    "- The strong correlation between rain and precipitation_probablity needs no explanation!"
   ]
  },
  {
   "cell_type": "markdown",
   "id": "2580a2da-6864-4880-bfe5-ae3a166da7b3",
   "metadata": {},
   "source": [
    "### Conclusions:\n",
    "- The predicted 5-day weather outlook for zip code 30340 was quite steady, with cloudy skies and a wide (and high) range of humidity.\n",
    "- There was a chance of rain, so basically the outlook was for cloudy, humid days with very little wind and light rain.\n",
    "\n",
    "### Here's a way to summarize the \"look\" of the weather forecast easily:"
   ]
  },
  {
   "cell_type": "code",
   "execution_count": 91,
   "id": "17ebdcae-19fd-4c4f-9e18-5130bdcfbf1f",
   "metadata": {},
   "outputs": [
    {
     "data": {
      "text/plain": [
       "weather_description\n",
       "overcast clouds     84\n",
       "light rain          75\n",
       "clear sky           46\n",
       "broken clouds       31\n",
       "scattered clouds    22\n",
       "moderate rain       13\n",
       "few clouds           9\n",
       "Name: count, dtype: int64"
      ]
     },
     "execution_count": 91,
     "metadata": {},
     "output_type": "execute_result"
    }
   ],
   "source": [
    "df[\"weather_description\"].value_counts()\n"
   ]
  },
  {
   "cell_type": "code",
   "execution_count": null,
   "id": "00b74604-ba5b-4b2d-b01d-720c61ba1664",
   "metadata": {},
   "outputs": [],
   "source": []
  }
 ],
 "metadata": {
  "kernelspec": {
   "display_name": "Python 3 (ipykernel)",
   "language": "python",
   "name": "python3"
  },
  "language_info": {
   "codemirror_mode": {
    "name": "ipython",
    "version": 3
   },
   "file_extension": ".py",
   "mimetype": "text/x-python",
   "name": "python",
   "nbconvert_exporter": "python",
   "pygments_lexer": "ipython3",
   "version": "3.12.4"
  }
 },
 "nbformat": 4,
 "nbformat_minor": 5
}
